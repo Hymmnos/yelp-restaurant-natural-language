{
 "cells": [
  {
   "cell_type": "markdown",
   "metadata": {},
   "source": [
    "# Initial Model training & Data Labeling "
   ]
  },
  {
   "cell_type": "code",
   "execution_count": 1,
   "metadata": {},
   "outputs": [],
   "source": [
    "# standard library\n",
    "import codecs\n",
    "import os\n",
    "import re\n",
    "import sys\n",
    "import warnings\n",
    "from pathlib import Path\n",
    "\n",
    "# 3rd party\n",
    "import googlemaps as gmaps\n",
    "import numpy as np\n",
    "import pandas as pd\n",
    "import plotly.express as px\n",
    "import seaborn as sns\n",
    "import datetime as dt\n",
    "from google.cloud import storage\n",
    "from google.cloud import automl\n",
    "\n",
    "import matplotlib.pyplot as plt"
   ]
  },
  {
   "cell_type": "code",
   "execution_count": 2,
   "metadata": {},
   "outputs": [],
   "source": [
    "# project config variables\n",
    "BUCKET_NAME = 'YOUR-BUCKET'\n",
    "INPUT_BUCKET_PREFIX = 'YOUR/DIRECTORIES/'\n",
    "OUTPUT_BUCKET_PATH = 'YOUR/DIRECTORIES/'\n",
    "URI_PREFIX = 'gs://'\n",
    "ROOT_DIR = Path.cwd().parent"
   ]
  },
  {
   "cell_type": "code",
   "execution_count": 3,
   "metadata": {},
   "outputs": [],
   "source": [
    "%load_ext autoreload\n",
    "%autoreload 2\n",
    "\n",
    "# add src library to module path\n",
    "sys.path.append(str(ROOT_DIR))"
   ]
  },
  {
   "cell_type": "code",
   "execution_count": 4,
   "metadata": {},
   "outputs": [],
   "source": [
    "# import modules from src\n",
    "from src.utils import to_snake_case, clean_byte_unicode_chars, fix_encoding\n",
    "\n",
    "# import secrets\n",
    "from creds import API_KEY"
   ]
  },
  {
   "cell_type": "code",
   "execution_count": 5,
   "metadata": {},
   "outputs": [],
   "source": []
  },
  {
   "cell_type": "markdown",
   "metadata": {},
   "source": [
    "#### set project wide parameters"
   ]
  },
  {
   "cell_type": "code",
   "execution_count": 6,
   "metadata": {},
   "outputs": [],
   "source": [
    "project_id = \"YOUR-ID\""
   ]
  },
  {
   "cell_type": "markdown",
   "metadata": {},
   "source": [
    "### Iteration 1 - Base Model"
   ]
  },
  {
   "cell_type": "markdown",
   "metadata": {},
   "source": [
    "#### Create the dataset in automl\n",
    "\n",
    "This notebook is an alternative to using the UI within GCP."
   ]
  },
  {
   "cell_type": "code",
   "execution_count": 8,
   "metadata": {},
   "outputs": [],
   "source": [
    "client = automl.AutoMlClient()"
   ]
  },
  {
   "cell_type": "code",
   "execution_count": null,
   "metadata": {},
   "outputs": [],
   "source": [
    "# TODO(developer): Uncomment and set the following variables\n",
    "fmt = '{mname}_%Y%m%d'\n",
    "m_name = \"YOUR-NAME\"\n",
    "display_name = dt.datetime.now().strftime(fmt).format(mname = m_name)\n",
    "\n",
    "# A resource that represents Google Cloud Platform location.\n",
    "project_location = client.location_path(project_id, \"us-central1\")\n",
    "\n",
    "metadata = automl.types.TextClassificationDatasetMetadata(\n",
    "    classification_type=automl.enums.ClassificationType.MULTILABEL\n",
    ")\n",
    "dataset = automl.types.Dataset(\n",
    "    display_name=display_name,\n",
    "    text_classification_dataset_metadata=metadata,\n",
    ")\n",
    "\n",
    "# Create a dataset with the dataset metadata in the region.\n",
    "response = client.create_dataset(project_location, dataset)\n",
    "\n",
    "created_dataset = response.result()\n",
    "\n",
    "# Display the dataset information\n",
    "print(\"Dataset name: {}\".format(created_dataset.name))\n",
    "print(\"Dataset id: {}\".format(created_dataset.name.split(\"/\")[-1]))"
   ]
  },
  {
   "cell_type": "markdown",
   "metadata": {},
   "source": [
    "#### Import the training data into created dataset"
   ]
  },
  {
   "cell_type": "code",
   "execution_count": null,
   "metadata": {},
   "outputs": [
    {
     "name": "stdout",
     "output_type": "stream",
     "text": [
      "Processing import...\n"
     ]
    }
   ],
   "source": [
    "# TODO(developer): Uncomment and set the following variables\n",
    "dataset_id = created_dataset.name.split(\"/\")[-1]\n",
    "path = \"gs://YOUR-BUCKET/TrainingDataLabeled.csv\"\n",
    "\n",
    "# Get the full path of the dataset.\n",
    "dataset_full_id = client.dataset_path(\n",
    "    project_id, \"us-central1\", dataset_id\n",
    ")\n",
    "# Get the multiple Google Cloud Storage URIs\n",
    "input_uris = path.split(\",\")\n",
    "gcs_source = automl.types.GcsSource(input_uris=input_uris)\n",
    "input_config = automl.types.InputConfig(gcs_source=gcs_source)\n",
    "# Import data from the input URI\n",
    "response = client.import_data(dataset_full_id, input_config)\n",
    "\n",
    "print(\"Processing import...\")\n",
    "print(\"Data imported. {}\".format(response.result()))"
   ]
  },
  {
   "cell_type": "code",
   "execution_count": null,
   "metadata": {},
   "outputs": [],
   "source": []
  },
  {
   "cell_type": "markdown",
   "metadata": {},
   "source": [
    "#### Train Initial model with manually labeled data"
   ]
  },
  {
   "cell_type": "code",
   "execution_count": null,
   "metadata": {},
   "outputs": [],
   "source": [
    "fmt = '{mname}_%Y%m%d'\n",
    "m_name = \"YOUR-NAME\"\n",
    "display_name = dt.datetime.now().strftime(fmt).format(mname = m_name)\n",
    "\n",
    "\n",
    "# A resource that represents Google Cloud Platform location.\n",
    "project_location = client.location_path(project_id, \"us-central1\")\n",
    "# Leave model unset to use the default base model provided by Google\n",
    "metadata = automl.types.TextClassificationModelMetadata(\n",
    "    classification_type=automl.enums.ClassificationType.MULTILABEL\n",
    ")\n",
    "model = automl.types.Model(\n",
    "    display_name=display_name,\n",
    "    dataset_id=dataset_id,\n",
    "    text_classification_model_metadata=metadata,\n",
    ")\n",
    "\n",
    "automl.types\n",
    "\n",
    "# Create a model with the model metadata in the region.\n",
    "response = client.create_model(project_location, model)\n",
    "\n",
    "print(u\"Training operation name: {}\".format(response.operation.name))\n",
    "print(\"Training started...\")"
   ]
  },
  {
   "cell_type": "markdown",
   "metadata": {},
   "source": [
    "#### Model Evaluation"
   ]
  },
  {
   "cell_type": "code",
   "execution_count": null,
   "metadata": {},
   "outputs": [],
   "source": [
    "model_id = \"YOUR-MODEL-ID\"\n",
    "\n",
    "# Get the full path of the model.\n",
    "model_full_id = client.model_path(project_id, \"us-central1\", model_id)\n",
    "\n",
    "print(\"List of model evaluations:\")\n",
    "for evaluation in client.list_model_evaluations(model_full_id, \"\"):\n",
    "    print(\"Model evaluation name: {}\".format(evaluation.name))\n",
    "    print(\n",
    "        \"Model annotation spec id: {}\".format(\n",
    "            evaluation.annotation_spec_id\n",
    "        )\n",
    "    )\n",
    "    print(\"Create Time:\")\n",
    "    print(\"\\tseconds: {}\".format(evaluation.create_time.seconds))\n",
    "    print(\"\\tnanos: {}\".format(evaluation.create_time.nanos / 1e9))\n",
    "    print(\n",
    "        \"Evaluation example count: {}\".format(\n",
    "            evaluation.evaluated_example_count\n",
    "        )\n",
    "    )\n",
    "    print(\n",
    "        \"Translation model evaluation metrics: {}\".format(\n",
    "            evaluation.translation_evaluation_metrics\n",
    "        )\n",
    "    )"
   ]
  },
  {
   "cell_type": "code",
   "execution_count": null,
   "metadata": {},
   "outputs": [],
   "source": [
    "# Get the full path of the model.\n",
    "model_full_id1 = client.model_path(project_id, \"us-central1\", model_id)\n",
    "print(model_full_id1)"
   ]
  },
  {
   "cell_type": "markdown",
   "metadata": {},
   "source": [
    "#### Prediction test"
   ]
  },
  {
   "cell_type": "code",
   "execution_count": 17,
   "metadata": {},
   "outputs": [
    {
     "name": "stdout",
     "output_type": "stream",
     "text": [
      "Predicted class name: Ambience\n",
      "Predicted class score: 0.868212103843689\n",
      "Predicted class name: Service\n",
      "Predicted class score: 0.7831429243087769\n",
      "Predicted class name: Location\n",
      "Predicted class score: 0.12061762809753418\n",
      "Predicted class name: Value\n",
      "Predicted class score: 0.007106959819793701\n"
     ]
    }
   ],
   "source": [
    "content = \"I really love the El Mirage location of Rio Mirage. The food tastes great the service is awesome the atmosphere is nice and the Monday margarita deals are phenomenal! I will mention the Surprise location does not earn the same rating but the El Mirage location is the best Mexican around!\"\n",
    "\n",
    "prediction_client = automl.PredictionServiceClient()\n",
    "\n",
    "# Get the full path of the model.\n",
    "model_full_id = prediction_client.model_path(\n",
    "    project_id, \"us-central1\", model_id\n",
    ")\n",
    "\n",
    "# Supported mime_types: 'text/plain', 'text/html'\n",
    "# https://cloud.google.com/automl/docs/reference/rpc/google.cloud.automl.v1#textsnippet\n",
    "text_snippet = automl.types.TextSnippet(\n",
    "    content=content, mime_type=\"text/plain\"\n",
    ")\n",
    "payload = automl.types.ExamplePayload(text_snippet=text_snippet)\n",
    "\n",
    "response = prediction_client.predict(model_full_id, payload)\n",
    "\n",
    "for annotation_payload in response.payload:\n",
    "    print(\n",
    "        u\"Predicted class name: {}\".format(annotation_payload.display_name)\n",
    "    )\n",
    "    print(\n",
    "        u\"Predicted class score: {}\".format(\n",
    "            annotation_payload.classification.score\n",
    "        )\n",
    "    )"
   ]
  },
  {
   "cell_type": "code",
   "execution_count": 18,
   "metadata": {},
   "outputs": [],
   "source": [
    "#### Get dataset ready for batch prediction for labeling\n",
    "str = 'So the only place on the strip that makes them hot is at Planet Hollywood Casino. This one does actually have a real location with variety as opposed to some gift shop in a casino that will sell you a donut.' "
   ]
  },
  {
   "cell_type": "code",
   "execution_count": 19,
   "metadata": {},
   "outputs": [
    {
     "name": "stdout",
     "output_type": "stream",
     "text": [
      "Predicted class name: Location\n",
      "Predicted class score: 0.8133878707885742\n",
      "Predicted class name: Value\n",
      "Predicted class score: 0.19717225432395935\n",
      "Predicted class name: Ambience\n",
      "Predicted class score: 0.19159570336341858\n",
      "Predicted class name: Service\n",
      "Predicted class score: 0.004075139760971069\n"
     ]
    }
   ],
   "source": [
    "content = str\n",
    "\n",
    "prediction_client = automl.PredictionServiceClient()\n",
    "\n",
    "# Get the full path of the model.\n",
    "model_full_id = prediction_client.model_path(\n",
    "    project_id, \"us-central1\", model_id\n",
    ")\n",
    "\n",
    "# Supported mime_types: 'text/plain', 'text/html'\n",
    "# https://cloud.google.com/automl/docs/reference/rpc/google.cloud.automl.v1#textsnippet\n",
    "text_snippet = automl.types.TextSnippet(\n",
    "    content=content, mime_type=\"text/plain\"\n",
    ")\n",
    "payload = automl.types.ExamplePayload(text_snippet=text_snippet)\n",
    "\n",
    "response = prediction_client.predict(model_full_id, payload)\n",
    "\n",
    "for annotation_payload in response.payload:\n",
    "    print(\n",
    "        u\"Predicted class name: {}\".format(annotation_payload.display_name)\n",
    "    )\n",
    "    print(\n",
    "        u\"Predicted class score: {}\".format(\n",
    "            annotation_payload.classification.score\n",
    "        )\n",
    "    )"
   ]
  },
  {
   "cell_type": "code",
   "execution_count": null,
   "metadata": {},
   "outputs": [],
   "source": []
  }
 ],
 "metadata": {
  "environment": {
   "name": "common-cpu.m56",
   "type": "gcloud",
   "uri": "gcr.io/deeplearning-platform-release/base-cpu:m56"
  },
  "kernelspec": {
   "display_name": "Python 3",
   "language": "python",
   "name": "python3"
  },
  "language_info": {
   "codemirror_mode": {
    "name": "ipython",
    "version": 3
   },
   "file_extension": ".py",
   "mimetype": "text/x-python",
   "name": "python",
   "nbconvert_exporter": "python",
   "pygments_lexer": "ipython3",
   "version": "3.7.8"
  }
 },
 "nbformat": 4,
 "nbformat_minor": 4
}
